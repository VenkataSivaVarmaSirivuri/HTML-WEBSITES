{
  "cells": [
    {
      "cell_type": "markdown",
      "metadata": {
        "id": "view-in-github",
        "colab_type": "text"
      },
      "source": [
        "<a href=\"https://colab.research.google.com/github/VenkataSivaVarmaSirivuri/HTML-WEBSITES/blob/main/Pandas_basic_ln.ipynb\" target=\"_parent\"><img src=\"https://colab.research.google.com/assets/colab-badge.svg\" alt=\"Open In Colab\"/></a>"
      ]
    },
    {
      "cell_type": "markdown",
      "id": "9b67a9ed-fdda-4b9e-9682-af5e2f2a150a",
      "metadata": {
        "id": "9b67a9ed-fdda-4b9e-9682-af5e2f2a150a"
      },
      "source": [
        "# PANDAS"
      ]
    },
    {
      "cell_type": "code",
      "source": [
        "from IPython.display import Image\n",
        "\n",
        "# Display image\n",
        "Image('/content/sample_data/c6h7rok9c2v31.jpg')\n"
      ],
      "metadata": {
        "colab": {
          "base_uri": "https://localhost:8080/",
          "height": 375
        },
        "id": "X2aTvZdA9iW5",
        "outputId": "6011b755-c80d-480a-91f5-3633d7ebf218"
      },
      "id": "X2aTvZdA9iW5",
      "execution_count": 3,
      "outputs": [
        {
          "output_type": "execute_result",
          "data": {
            "image/jpeg": "[encoded data removed]",
            "text/plain": [
              "<IPython.core.display.Image object>"
            ]
          },
          "metadata": {},
          "execution_count": 3
        }
      ]
    },
    {
      "cell_type": "markdown",
      "id": "a14de5f7-2d61-4d9a-9a25-30b85e112549",
      "metadata": {
        "id": "a14de5f7-2d61-4d9a-9a25-30b85e112549"
      },
      "source": [
        "# https://pandas.pydata.org/docs/reference/index.html"
      ]
    },
    {
      "cell_type": "markdown",
      "id": "6af0307e-0f60-4c47-b877-9de6232cc5bd",
      "metadata": {
        "jp-MarkdownHeadingCollapsed": true,
        "id": "6af0307e-0f60-4c47-b877-9de6232cc5bd"
      },
      "source": [
        "# pandas are two types series and dataframe"
      ]
    },
    {
      "cell_type": "markdown",
      "id": "ce190349-7c9e-42c4-8449-f4869ac536da",
      "metadata": {
        "id": "ce190349-7c9e-42c4-8449-f4869ac536da"
      },
      "source": [
        "# pandas are Data manipulation which clean the data,data transformation and data aggregation"
      ]
    },
    {
      "cell_type": "markdown",
      "id": "7aa3f419-8d74-40ff-9425-ea91608459ab",
      "metadata": {
        "id": "7aa3f419-8d74-40ff-9425-ea91608459ab"
      },
      "source": [
        "# this is juypter notebook and we will have all the modules by default"
      ]
    },
    {
      "cell_type": "code",
      "execution_count": null,
      "id": "9465422e-4a37-469d-862e-9ce90f7c10e7",
      "metadata": {
        "id": "9465422e-4a37-469d-862e-9ce90f7c10e7",
        "outputId": "7f68537a-db64-49db-fb0c-b40e5c509579"
      },
      "outputs": [
        {
          "name": "stdout",
          "output_type": "stream",
          "text": [
            "Requirement already satisfied: pandas in e:\\anaconda\\lib\\site-packages (2.2.2)\n",
            "Requirement already satisfied: numpy>=1.26.0 in e:\\anaconda\\lib\\site-packages (from pandas) (1.26.4)\n",
            "Requirement already satisfied: python-dateutil>=2.8.2 in e:\\anaconda\\lib\\site-packages (from pandas) (2.9.0.post0)\n",
            "Requirement already satisfied: pytz>=2020.1 in e:\\anaconda\\lib\\site-packages (from pandas) (2024.1)\n",
            "Requirement already satisfied: tzdata>=2022.7 in e:\\anaconda\\lib\\site-packages (from pandas) (2023.3)\n",
            "Requirement already satisfied: six>=1.5 in e:\\anaconda\\lib\\site-packages (from python-dateutil>=2.8.2->pandas) (1.16.0)\n"
          ]
        }
      ],
      "source": [
        "!pip install pandas# if you dont have pandas librarys run this command"
      ]
    },
    {
      "cell_type": "code",
      "execution_count": null,
      "id": "cd79d2f2-fade-46a8-bbea-179cdc9581d7",
      "metadata": {
        "id": "cd79d2f2-fade-46a8-bbea-179cdc9581d7"
      },
      "outputs": [],
      "source": [
        "# first step is to import pandas\n",
        "import pandas as pd"
      ]
    },
    {
      "cell_type": "markdown",
      "id": "bc92fac4-bd4f-4582-8b62-01ff85851b70",
      "metadata": {
        "id": "bc92fac4-bd4f-4582-8b62-01ff85851b70"
      },
      "source": [
        "# series looks 1d and dataframe looks 2d"
      ]
    },
    {
      "cell_type": "markdown",
      "id": "9f115795-986b-4ecd-8236-2baaa04bf4d1",
      "metadata": {
        "id": "9f115795-986b-4ecd-8236-2baaa04bf4d1"
      },
      "source": [
        "# lets learn series\n",
        "# the syntax is\n",
        "# variable=pd.Series([list_values])\n",
        "# Note: S is capital and other are smallcase"
      ]
    },
    {
      "cell_type": "code",
      "execution_count": null,
      "id": "6f651a88-136a-446f-97e8-c2071437ff88",
      "metadata": {
        "id": "6f651a88-136a-446f-97e8-c2071437ff88",
        "outputId": "42869840-36ae-43f7-87e5-59911d2067da"
      },
      "outputs": [
        {
          "data": {
            "text/plain": [
              "0    1\n",
              "1    2\n",
              "2    3\n",
              "3    4\n",
              "4    5\n",
              "dtype: int64"
            ]
          },
          "execution_count": 10,
          "metadata": {},
          "output_type": "execute_result"
        }
      ],
      "source": [
        "s=pd.Series([1,2,3,4,5])\n",
        "s"
      ]
    },
    {
      "cell_type": "code",
      "execution_count": null,
      "id": "8e9992c5-5cd2-472b-bbaf-9344abec583e",
      "metadata": {
        "id": "8e9992c5-5cd2-472b-bbaf-9344abec583e",
        "outputId": "7aea4c3a-4209-4b09-dac3-272fc8154abe"
      },
      "outputs": [
        {
          "data": {
            "text/plain": [
              "0    1\n",
              "1    2\n",
              "2    3\n",
              "3    4\n",
              "4    5\n",
              "dtype: int32"
            ]
          },
          "execution_count": 15,
          "metadata": {},
          "output_type": "execute_result"
        }
      ],
      "source": [
        "# i will pass numpy array it gives the same result\n",
        "import numpy as np\n",
        "s=pd.Series(np.array([1,2,3,4,5]))\n",
        "s"
      ]
    },
    {
      "cell_type": "code",
      "execution_count": null,
      "id": "ef31c6ee-def1-478e-a8ad-36f0f666f826",
      "metadata": {
        "id": "ef31c6ee-def1-478e-a8ad-36f0f666f826",
        "outputId": "7eb3d524-525f-4224-8384-8e344ad97836"
      },
      "outputs": [
        {
          "data": {
            "text/plain": [
              "r1    1\n",
              "r2    2\n",
              "r3    3\n",
              "r4    4\n",
              "r5    5\n",
              "dtype: int64"
            ]
          },
          "execution_count": 12,
          "metadata": {},
          "output_type": "execute_result"
        }
      ],
      "source": [
        "# the index value default is 0\n",
        "# you can also give index names by using index function\n",
        "s=pd.Series([1,2,3,4,5],index=['r1','r2','r3','r4','r5'])\n",
        "s"
      ]
    },
    {
      "cell_type": "markdown",
      "id": "fbfe2449-208a-468a-a9c0-773ed58307cb",
      "metadata": {
        "id": "fbfe2449-208a-468a-a9c0-773ed58307cb"
      },
      "source": [
        "# in Series you can pass list-[],array-np.array([]),tuple -(()) ,strings,floating point numbers,python objects"
      ]
    },
    {
      "cell_type": "code",
      "execution_count": null,
      "id": "874f1bbc-40db-49c6-88b6-52e281d412e0",
      "metadata": {
        "id": "874f1bbc-40db-49c6-88b6-52e281d412e0",
        "outputId": "19e84a5c-38d5-4cd3-8f68-87610471a114"
      },
      "outputs": [
        {
          "data": {
            "text/plain": [
              "0    1\n",
              "1    2\n",
              "2    3\n",
              "3    4\n",
              "4    5\n",
              "dtype: int64"
            ]
          },
          "execution_count": 19,
          "metadata": {},
          "output_type": "execute_result"
        }
      ],
      "source": [
        "s=pd.Series((1,2,3,4,5))\n",
        "s"
      ]
    },
    {
      "cell_type": "markdown",
      "id": "6be4256a-1722-4d31-ad23-3a00b86e53c3",
      "metadata": {
        "id": "6be4256a-1722-4d31-ad23-3a00b86e53c3"
      },
      "source": [
        "# Series is one dimensional labeled array"
      ]
    },
    {
      "cell_type": "markdown",
      "id": "4f15da7e-f018-437e-9fc8-96ab9752f23c",
      "metadata": {
        "id": "4f15da7e-f018-437e-9fc8-96ab9752f23c"
      },
      "source": [
        "# note:\n",
        "# only set cannot be passed in pandas, we can use dictionary as well"
      ]
    },
    {
      "cell_type": "code",
      "execution_count": null,
      "id": "45c3daf1-44c9-4461-9a96-e7abd8e80886",
      "metadata": {
        "id": "45c3daf1-44c9-4461-9a96-e7abd8e80886",
        "outputId": "6385d6a7-c920-47a6-f67b-f1c1b204b861"
      },
      "outputs": [
        {
          "ename": "AttributeError",
          "evalue": "module 'pandas' has no attribute 'series'",
          "output_type": "error",
          "traceback": [
            "\u001b[1;31m---------------------------------------------------------------------------\u001b[0m",
            "\u001b[1;31mAttributeError\u001b[0m                            Traceback (most recent call last)",
            "Cell \u001b[1;32mIn[25], line 2\u001b[0m\n\u001b[0;32m      1\u001b[0m \u001b[38;5;66;03m# what happens if we doesnt give s capital\u001b[39;00m\n\u001b[1;32m----> 2\u001b[0m s\u001b[38;5;241m=\u001b[39mpd\u001b[38;5;241m.\u001b[39mseries([\u001b[38;5;241m10\u001b[39m,\u001b[38;5;241m20\u001b[39m,\u001b[38;5;241m30\u001b[39m])\n\u001b[0;32m      3\u001b[0m s\n",
            "\u001b[1;31mAttributeError\u001b[0m: module 'pandas' has no attribute 'series'"
          ]
        }
      ],
      "source": [
        "# what happens if we doesnt give s capital\n",
        "s=pd.series([10,20,30])\n",
        "s"
      ]
    },
    {
      "cell_type": "markdown",
      "id": "b4a53100-2d74-4f8b-9dfb-fe95c6b6480d",
      "metadata": {
        "id": "b4a53100-2d74-4f8b-9dfb-fe95c6b6480d"
      },
      "source": [
        "# so remeber s should be capital in pandas"
      ]
    },
    {
      "cell_type": "markdown",
      "id": "319c9716-ac0c-4c17-817d-23681edd7a50",
      "metadata": {
        "id": "319c9716-ac0c-4c17-817d-23681edd7a50"
      },
      "source": [
        "# dtype function to change data type of pandas"
      ]
    },
    {
      "cell_type": "code",
      "execution_count": null,
      "id": "b00d02e7-7c68-4d95-b74c-1d6b045c3dd0",
      "metadata": {
        "id": "b00d02e7-7c68-4d95-b74c-1d6b045c3dd0",
        "outputId": "3262a9b7-3ee7-4afc-da79-1c47b4683dac"
      },
      "outputs": [
        {
          "data": {
            "text/plain": [
              "0    10\n",
              "1    20\n",
              "2    30\n",
              "3    40\n",
              "dtype: int64"
            ]
          },
          "execution_count": 33,
          "metadata": {},
          "output_type": "execute_result"
        }
      ],
      "source": [
        "s=pd.Series([10,20,30,40])\n",
        "s"
      ]
    },
    {
      "cell_type": "markdown",
      "id": "01b695ca-172c-4442-b018-11f5fb384777",
      "metadata": {
        "id": "01b695ca-172c-4442-b018-11f5fb384777"
      },
      "source": [
        "# it is showing at the end dtype:int64"
      ]
    },
    {
      "cell_type": "code",
      "execution_count": null,
      "id": "16525e1f-8356-4483-af47-2e944d606ecf",
      "metadata": {
        "id": "16525e1f-8356-4483-af47-2e944d606ecf",
        "outputId": "c5854cdb-2537-47a0-eacc-0e10b8988ddf"
      },
      "outputs": [
        {
          "data": {
            "text/plain": [
              "0    10.0\n",
              "1    20.0\n",
              "2    30.0\n",
              "3    40.0\n",
              "dtype: float64"
            ]
          },
          "execution_count": 36,
          "metadata": {},
          "output_type": "execute_result"
        }
      ],
      "source": [
        "# to change dtype we use dtype function\n",
        "s=pd.Series([10,20,30,40],dtype='float')\n",
        "s"
      ]
    },
    {
      "cell_type": "markdown",
      "id": "8409a770-5aa1-4757-8c8e-0f9cd069916e",
      "metadata": {
        "id": "8409a770-5aa1-4757-8c8e-0f9cd069916e"
      },
      "source": [
        "# you can aslo give float 32"
      ]
    },
    {
      "cell_type": "code",
      "execution_count": null,
      "id": "1bdf2204-e552-44d3-9fa9-3751b98677c1",
      "metadata": {
        "id": "1bdf2204-e552-44d3-9fa9-3751b98677c1",
        "outputId": "d3e51590-6c2e-4ac4-fd0b-8fccde2d1917"
      },
      "outputs": [
        {
          "data": {
            "text/plain": [
              "0    10.0\n",
              "1    20.0\n",
              "2    30.0\n",
              "3    40.0\n",
              "dtype: float32"
            ]
          },
          "execution_count": 39,
          "metadata": {},
          "output_type": "execute_result"
        }
      ],
      "source": [
        "s=pd.Series([10,20,30,40],dtype='float32')\n",
        "s"
      ]
    },
    {
      "cell_type": "code",
      "execution_count": null,
      "id": "54dcbcb2-9476-4a46-8c45-167dfabd1bde",
      "metadata": {
        "id": "54dcbcb2-9476-4a46-8c45-167dfabd1bde",
        "outputId": "1d316e3d-f0b5-4d8e-8e10-ff4ae90ddb5c"
      },
      "outputs": [
        {
          "data": {
            "text/plain": [
              "a    1\n",
              "b    2\n",
              "c    3\n",
              "dtype: int64"
            ]
          },
          "execution_count": 41,
          "metadata": {},
          "output_type": "execute_result"
        }
      ],
      "source": [
        "# now lets try the dict format\n",
        "s=pd.Series({'a':1,'b':2,'c':3})\n",
        "s"
      ]
    },
    {
      "cell_type": "markdown",
      "id": "8c47186f-d93b-4d2b-a4c4-7c5495190c68",
      "metadata": {
        "id": "8c47186f-d93b-4d2b-a4c4-7c5495190c68"
      },
      "source": [
        "# a key is index and value 1 is value when using dict"
      ]
    },
    {
      "cell_type": "markdown",
      "id": "f8bc1b5c-8543-4464-9912-4e3ad72c9dcf",
      "metadata": {
        "id": "f8bc1b5c-8543-4464-9912-4e3ad72c9dcf"
      },
      "source": [
        "# now when uing dict no need to give index function what if we give index"
      ]
    },
    {
      "cell_type": "code",
      "execution_count": null,
      "id": "254434a7-a1e7-4b6b-9cad-3c4e578bcb62",
      "metadata": {
        "id": "254434a7-a1e7-4b6b-9cad-3c4e578bcb62",
        "outputId": "00049f85-a0bf-4ca4-b94c-bdfcb503d8c8"
      },
      "outputs": [
        {
          "data": {
            "text/plain": [
              "x   NaN\n",
              "y   NaN\n",
              "z   NaN\n",
              "dtype: float64"
            ]
          },
          "execution_count": 45,
          "metadata": {},
          "output_type": "execute_result"
        }
      ],
      "source": [
        "d=pd.Series({'a':1,'b':2,'c':3},index=['x','y','z'])\n",
        "d"
      ]
    },
    {
      "cell_type": "markdown",
      "id": "e9fdabd5-7cb5-4f38-99c7-6f8c6d8a8fc5",
      "metadata": {
        "id": "e9fdabd5-7cb5-4f38-99c7-6f8c6d8a8fc5"
      },
      "source": [
        "# you are rewriting the index of a,b,c to x,y,z so programming language cannot understand it\n",
        "# so it is giving NaN values 🙃 - NaN values are nothing but null values"
      ]
    },
    {
      "cell_type": "markdown",
      "id": "4c268f4c-b8d4-4504-aea8-0fec9962918e",
      "metadata": {
        "id": "4c268f4c-b8d4-4504-aea8-0fec9962918e"
      },
      "source": [
        "# Accessing elements in Series"
      ]
    },
    {
      "cell_type": "code",
      "execution_count": null,
      "id": "aeb3c3f6-2524-46bb-96e4-1ae789a2a1e6",
      "metadata": {
        "id": "aeb3c3f6-2524-46bb-96e4-1ae789a2a1e6",
        "outputId": "e7d53932-138a-4769-a6e4-28cc3d628b9f"
      },
      "outputs": [
        {
          "data": {
            "text/plain": [
              "0    10\n",
              "1    20\n",
              "2    30\n",
              "3    40\n",
              "4    50\n",
              "dtype: int64"
            ]
          },
          "execution_count": 55,
          "metadata": {},
          "output_type": "execute_result"
        }
      ],
      "source": [
        "s=pd.Series([10,20,30,40,50])\n",
        "s"
      ]
    },
    {
      "cell_type": "code",
      "execution_count": null,
      "id": "f311bcbc-c6a5-40fd-8966-a0a5841a719a",
      "metadata": {
        "id": "f311bcbc-c6a5-40fd-8966-a0a5841a719a",
        "outputId": "49c2adc9-b835-4220-f978-b6e0642420c5"
      },
      "outputs": [
        {
          "data": {
            "text/plain": [
              "30"
            ]
          },
          "execution_count": 57,
          "metadata": {},
          "output_type": "execute_result"
        }
      ],
      "source": [
        "# i want 30\n",
        "s[2]"
      ]
    },
    {
      "cell_type": "code",
      "execution_count": null,
      "id": "61c162d8-4d1a-416e-be8c-4114db21a676",
      "metadata": {
        "id": "61c162d8-4d1a-416e-be8c-4114db21a676",
        "outputId": "6c584c53-2450-4d00-e946-ed9385aac4cd"
      },
      "outputs": [
        {
          "data": {
            "text/plain": [
              "10"
            ]
          },
          "execution_count": 59,
          "metadata": {},
          "output_type": "execute_result"
        }
      ],
      "source": [
        "s[0]"
      ]
    },
    {
      "cell_type": "markdown",
      "id": "af086c5f-32da-4932-b8ea-754acf6dbb36",
      "metadata": {
        "id": "af086c5f-32da-4932-b8ea-754acf6dbb36"
      },
      "source": [
        "# dictionary is mutable right\n",
        "# mutable - means it can modify or change\n",
        "# immutable - means original values cannot be modified or changed"
      ]
    },
    {
      "cell_type": "code",
      "execution_count": null,
      "id": "9f826d99-3f35-403d-8f14-5cf925721f48",
      "metadata": {
        "id": "9f826d99-3f35-403d-8f14-5cf925721f48",
        "outputId": "476e0685-44ee-4863-ea1e-5d597e921fe4"
      },
      "outputs": [
        {
          "data": {
            "text/plain": [
              "0    10\n",
              "1    20\n",
              "2    30\n",
              "3    40\n",
              "4    50\n",
              "dtype: int64"
            ]
          },
          "execution_count": 62,
          "metadata": {},
          "output_type": "execute_result"
        }
      ],
      "source": [
        "s"
      ]
    },
    {
      "cell_type": "code",
      "execution_count": null,
      "id": "65c849d7-1b77-4662-b84d-4896616a0d5d",
      "metadata": {
        "id": "65c849d7-1b77-4662-b84d-4896616a0d5d",
        "outputId": "ad8922bb-8e30-483b-9e61-5150826c0524"
      },
      "outputs": [
        {
          "data": {
            "text/plain": [
              "0    100\n",
              "1     20\n",
              "2     30\n",
              "3     40\n",
              "4     50\n",
              "dtype: int64"
            ]
          },
          "execution_count": 64,
          "metadata": {},
          "output_type": "execute_result"
        }
      ],
      "source": [
        "# checking mutability\n",
        "s[0]=100\n",
        "s"
      ]
    },
    {
      "cell_type": "markdown",
      "id": "c1f82ec8-2a95-474e-8628-0d8e7071897c",
      "metadata": {
        "id": "c1f82ec8-2a95-474e-8628-0d8e7071897c"
      },
      "source": [
        "# so 10 is updated to 100"
      ]
    },
    {
      "cell_type": "markdown",
      "id": "dbc26639-ebbb-401d-87a8-7ea52c0af54b",
      "metadata": {
        "id": "dbc26639-ebbb-401d-87a8-7ea52c0af54b"
      },
      "source": [
        "# we can also give name of the series 🤔\n",
        "# by using name fucntion"
      ]
    },
    {
      "cell_type": "code",
      "execution_count": null,
      "id": "f2b166c1-d4f2-4ee1-ac73-a049eafaa005",
      "metadata": {
        "id": "f2b166c1-d4f2-4ee1-ac73-a049eafaa005",
        "outputId": "58653e18-7d03-436a-bdb6-5c7bbef2b286"
      },
      "outputs": [
        {
          "data": {
            "text/plain": [
              "0    10\n",
              "1    20\n",
              "2    30\n",
              "3    40\n",
              "4    50\n",
              "Name: numbers, dtype: int64"
            ]
          },
          "execution_count": 68,
          "metadata": {},
          "output_type": "execute_result"
        }
      ],
      "source": [
        "s=pd.Series([10,20,30,40,50],name='numbers')\n",
        "s"
      ]
    },
    {
      "cell_type": "markdown",
      "id": "c7f55239-27bb-4074-8ca6-931ad04f8011",
      "metadata": {
        "id": "c7f55239-27bb-4074-8ca6-931ad04f8011"
      },
      "source": [
        "# Note: Series should have equal values length  and equal indexes length as well"
      ]
    },
    {
      "cell_type": "code",
      "execution_count": null,
      "id": "0d3571fb-2943-4d03-973a-901c7c68761c",
      "metadata": {
        "id": "0d3571fb-2943-4d03-973a-901c7c68761c",
        "outputId": "94c1be4e-f7b2-433c-f6ef-23ce9e767b3d"
      },
      "outputs": [
        {
          "ename": "ValueError",
          "evalue": "Length of values (4) does not match length of index (2)",
          "output_type": "error",
          "traceback": [
            "\u001b[1;31m---------------------------------------------------------------------------\u001b[0m",
            "\u001b[1;31mValueError\u001b[0m                                Traceback (most recent call last)",
            "Cell \u001b[1;32mIn[72], line 1\u001b[0m\n\u001b[1;32m----> 1\u001b[0m a\u001b[38;5;241m=\u001b[39mpd\u001b[38;5;241m.\u001b[39mSeries([\u001b[38;5;241m1\u001b[39m,\u001b[38;5;241m2\u001b[39m,\u001b[38;5;241m3\u001b[39m,\u001b[38;5;241m4\u001b[39m],index\u001b[38;5;241m=\u001b[39m[\u001b[38;5;124m'\u001b[39m\u001b[38;5;124ma\u001b[39m\u001b[38;5;124m'\u001b[39m,\u001b[38;5;124m'\u001b[39m\u001b[38;5;124mb\u001b[39m\u001b[38;5;124m'\u001b[39m])\n\u001b[0;32m      2\u001b[0m \u001b[38;5;28mprint\u001b[39m(a)\n",
            "File \u001b[1;32mE:\\anaconda\\Lib\\site-packages\\pandas\\core\\series.py:575\u001b[0m, in \u001b[0;36mSeries.__init__\u001b[1;34m(self, data, index, dtype, name, copy, fastpath)\u001b[0m\n\u001b[0;32m    573\u001b[0m     index \u001b[38;5;241m=\u001b[39m default_index(\u001b[38;5;28mlen\u001b[39m(data))\n\u001b[0;32m    574\u001b[0m \u001b[38;5;28;01melif\u001b[39;00m is_list_like(data):\n\u001b[1;32m--> 575\u001b[0m     com\u001b[38;5;241m.\u001b[39mrequire_length_match(data, index)\n\u001b[0;32m    577\u001b[0m \u001b[38;5;66;03m# create/copy the manager\u001b[39;00m\n\u001b[0;32m    578\u001b[0m \u001b[38;5;28;01mif\u001b[39;00m \u001b[38;5;28misinstance\u001b[39m(data, (SingleBlockManager, SingleArrayManager)):\n",
            "File \u001b[1;32mE:\\anaconda\\Lib\\site-packages\\pandas\\core\\common.py:573\u001b[0m, in \u001b[0;36mrequire_length_match\u001b[1;34m(data, index)\u001b[0m\n\u001b[0;32m    569\u001b[0m \u001b[38;5;250m\u001b[39m\u001b[38;5;124;03m\"\"\"\u001b[39;00m\n\u001b[0;32m    570\u001b[0m \u001b[38;5;124;03mCheck the length of data matches the length of the index.\u001b[39;00m\n\u001b[0;32m    571\u001b[0m \u001b[38;5;124;03m\"\"\"\u001b[39;00m\n\u001b[0;32m    572\u001b[0m \u001b[38;5;28;01mif\u001b[39;00m \u001b[38;5;28mlen\u001b[39m(data) \u001b[38;5;241m!=\u001b[39m \u001b[38;5;28mlen\u001b[39m(index):\n\u001b[1;32m--> 573\u001b[0m     \u001b[38;5;28;01mraise\u001b[39;00m \u001b[38;5;167;01mValueError\u001b[39;00m(\n\u001b[0;32m    574\u001b[0m         \u001b[38;5;124m\"\u001b[39m\u001b[38;5;124mLength of values \u001b[39m\u001b[38;5;124m\"\u001b[39m\n\u001b[0;32m    575\u001b[0m         \u001b[38;5;124mf\u001b[39m\u001b[38;5;124m\"\u001b[39m\u001b[38;5;124m(\u001b[39m\u001b[38;5;132;01m{\u001b[39;00m\u001b[38;5;28mlen\u001b[39m(data)\u001b[38;5;132;01m}\u001b[39;00m\u001b[38;5;124m) \u001b[39m\u001b[38;5;124m\"\u001b[39m\n\u001b[0;32m    576\u001b[0m         \u001b[38;5;124m\"\u001b[39m\u001b[38;5;124mdoes not match length of index \u001b[39m\u001b[38;5;124m\"\u001b[39m\n\u001b[0;32m    577\u001b[0m         \u001b[38;5;124mf\u001b[39m\u001b[38;5;124m\"\u001b[39m\u001b[38;5;124m(\u001b[39m\u001b[38;5;132;01m{\u001b[39;00m\u001b[38;5;28mlen\u001b[39m(index)\u001b[38;5;132;01m}\u001b[39;00m\u001b[38;5;124m)\u001b[39m\u001b[38;5;124m\"\u001b[39m\n\u001b[0;32m    578\u001b[0m     )\n",
            "\u001b[1;31mValueError\u001b[0m: Length of values (4) does not match length of index (2)"
          ]
        }
      ],
      "source": [
        "a=pd.Series([1,2,3,4],index=['a','b'])\n",
        "print(a)"
      ]
    },
    {
      "cell_type": "markdown",
      "id": "cb6b079d-5166-4d83-a0e6-57df10392bd0",
      "metadata": {
        "id": "cb6b079d-5166-4d83-a0e6-57df10392bd0"
      },
      "source": [
        "# we have null values in numpys and pandas"
      ]
    },
    {
      "cell_type": "code",
      "execution_count": null,
      "id": "326ab1fd-8154-46e0-a9f6-f613ad845d27",
      "metadata": {
        "id": "326ab1fd-8154-46e0-a9f6-f613ad845d27",
        "outputId": "b9fce853-e47f-4ed2-fa02-c1677f4cad1e"
      },
      "outputs": [
        {
          "data": {
            "text/plain": [
              "nan"
            ]
          },
          "execution_count": 76,
          "metadata": {},
          "output_type": "execute_result"
        }
      ],
      "source": [
        "np.NAN"
      ]
    },
    {
      "cell_type": "code",
      "execution_count": null,
      "id": "647e10da-28e6-436e-b1b3-e18c76d2b074",
      "metadata": {
        "id": "647e10da-28e6-436e-b1b3-e18c76d2b074",
        "outputId": "31179008-6c46-474c-e3a6-3afe4f85d3c3"
      },
      "outputs": [
        {
          "data": {
            "text/plain": [
              "nan"
            ]
          },
          "execution_count": 78,
          "metadata": {},
          "output_type": "execute_result"
        }
      ],
      "source": [
        "np.NaN"
      ]
    },
    {
      "cell_type": "code",
      "execution_count": null,
      "id": "2efbe19a-2d65-46bd-b95d-fd70775d16b7",
      "metadata": {
        "id": "2efbe19a-2d65-46bd-b95d-fd70775d16b7",
        "outputId": "22818648-e178-4dbb-8943-3eeb6b7f726a"
      },
      "outputs": [
        {
          "data": {
            "text/plain": [
              "nan"
            ]
          },
          "execution_count": 80,
          "metadata": {},
          "output_type": "execute_result"
        }
      ],
      "source": [
        "np.nan"
      ]
    },
    {
      "cell_type": "code",
      "execution_count": null,
      "id": "9f44815a-bf41-4be9-b730-cf7b206525cb",
      "metadata": {
        "id": "9f44815a-bf41-4be9-b730-cf7b206525cb",
        "outputId": "8fd0d2cb-638d-4465-a01a-632f93a0f2f6"
      },
      "outputs": [
        {
          "ename": "AttributeError",
          "evalue": "module 'numpy' has no attribute 'Nan'",
          "output_type": "error",
          "traceback": [
            "\u001b[1;31m---------------------------------------------------------------------------\u001b[0m",
            "\u001b[1;31mAttributeError\u001b[0m                            Traceback (most recent call last)",
            "Cell \u001b[1;32mIn[82], line 1\u001b[0m\n\u001b[1;32m----> 1\u001b[0m np\u001b[38;5;241m.\u001b[39mNan\n",
            "File \u001b[1;32mE:\\anaconda\\Lib\\site-packages\\numpy\\__init__.py:333\u001b[0m, in \u001b[0;36m__getattr__\u001b[1;34m(attr)\u001b[0m\n\u001b[0;32m    330\u001b[0m     \u001b[38;5;124m\"\u001b[39m\u001b[38;5;124mRemoved in NumPy 1.25.0\u001b[39m\u001b[38;5;124m\"\u001b[39m\n\u001b[0;32m    331\u001b[0m     \u001b[38;5;28;01mraise\u001b[39;00m \u001b[38;5;167;01mRuntimeError\u001b[39;00m(\u001b[38;5;124m\"\u001b[39m\u001b[38;5;124mTester was removed in NumPy 1.25.\u001b[39m\u001b[38;5;124m\"\u001b[39m)\n\u001b[1;32m--> 333\u001b[0m \u001b[38;5;28;01mraise\u001b[39;00m \u001b[38;5;167;01mAttributeError\u001b[39;00m(\u001b[38;5;124m\"\u001b[39m\u001b[38;5;124mmodule \u001b[39m\u001b[38;5;132;01m{!r}\u001b[39;00m\u001b[38;5;124m has no attribute \u001b[39m\u001b[38;5;124m\"\u001b[39m\n\u001b[0;32m    334\u001b[0m                      \u001b[38;5;124m\"\u001b[39m\u001b[38;5;132;01m{!r}\u001b[39;00m\u001b[38;5;124m\"\u001b[39m\u001b[38;5;241m.\u001b[39mformat(\u001b[38;5;18m__name__\u001b[39m, attr))\n",
            "\u001b[1;31mAttributeError\u001b[0m: module 'numpy' has no attribute 'Nan'"
          ]
        }
      ],
      "source": [
        "np.Nan# this is not proper way of giving nan"
      ]
    },
    {
      "cell_type": "markdown",
      "id": "6ac4d143-1fc9-4f1f-96c1-8c684ef75d27",
      "metadata": {
        "id": "6ac4d143-1fc9-4f1f-96c1-8c684ef75d27"
      },
      "source": [
        "# np.nan what is the dtype of null values we think that it is nan 😜\n",
        "# but it is actually float type in numpys and pandas"
      ]
    },
    {
      "cell_type": "code",
      "execution_count": null,
      "id": "62106e07-21ff-44c8-853e-6287af52d5ee",
      "metadata": {
        "id": "62106e07-21ff-44c8-853e-6287af52d5ee",
        "outputId": "755c8343-4f13-44d3-e76c-9829eed48e3b"
      },
      "outputs": [
        {
          "name": "stdout",
          "output_type": "stream",
          "text": [
            "<class 'float'>\n"
          ]
        }
      ],
      "source": [
        "print(type(np.nan))"
      ]
    },
    {
      "cell_type": "markdown",
      "id": "d3b5ede2-ff24-4687-87be-a8b9eb5dd89e",
      "metadata": {
        "id": "d3b5ede2-ff24-4687-87be-a8b9eb5dd89e"
      },
      "source": [
        "# what is the datatype of series if it has 3 int and 1 float type it will change its\n",
        "# complete dtype to float"
      ]
    },
    {
      "cell_type": "code",
      "execution_count": null,
      "id": "072e196f-3e0e-49df-a68c-f62d0a1cdfbd",
      "metadata": {
        "id": "072e196f-3e0e-49df-a68c-f62d0a1cdfbd",
        "outputId": "6cd9b6fc-4dce-4b80-a37a-ba1f5c179325"
      },
      "outputs": [
        {
          "data": {
            "text/plain": [
              "0     1.0\n",
              "1     2.0\n",
              "2     3.0\n",
              "3     4.0\n",
              "4    20.0\n",
              "dtype: float64"
            ]
          },
          "execution_count": 88,
          "metadata": {},
          "output_type": "execute_result"
        }
      ],
      "source": [
        "s=pd.Series([1,2,3,4,20.0])\n",
        "s"
      ]
    },
    {
      "cell_type": "markdown",
      "id": "12c96a40-0316-4f1c-ac66-611f45139eaa",
      "metadata": {
        "id": "12c96a40-0316-4f1c-ac66-611f45139eaa"
      },
      "source": [
        "# same if one object and all int it changes it type to object,in pandas object are nothing but\n",
        "# strings."
      ]
    },
    {
      "cell_type": "code",
      "execution_count": null,
      "id": "09f82ea2-4a90-4b24-943c-6a0375224818",
      "metadata": {
        "id": "09f82ea2-4a90-4b24-943c-6a0375224818",
        "outputId": "ac8d2196-fdd1-41b8-9fca-8c391d11af42"
      },
      "outputs": [
        {
          "data": {
            "text/plain": [
              "0      10\n",
              "1      20\n",
              "2      30\n",
              "3    30.0\n",
              "4     ram\n",
              "dtype: object"
            ]
          },
          "execution_count": 91,
          "metadata": {},
          "output_type": "execute_result"
        }
      ],
      "source": [
        "s=pd.Series([10,20,30,30.0,'ram'])\n",
        "s"
      ]
    },
    {
      "cell_type": "code",
      "execution_count": null,
      "id": "7ab59aca-fa18-4635-b310-a6f1e33815b5",
      "metadata": {
        "id": "7ab59aca-fa18-4635-b310-a6f1e33815b5",
        "outputId": "049254a5-7a63-45c1-93fd-a18eb120dc55"
      },
      "outputs": [
        {
          "name": "stdout",
          "output_type": "stream",
          "text": [
            "a    Akhsay\n",
            "b    Bhrama\n",
            "c    Chinna\n",
            "dtype: object\n"
          ]
        }
      ],
      "source": [
        "d=pd.Series({'a':'Akhsay','b':'Bhrama','c':'Chinna'})\n",
        "print(d)"
      ]
    },
    {
      "cell_type": "code",
      "execution_count": null,
      "id": "9bf25a0e-d1ac-4001-8e1f-aa9622ddcea8",
      "metadata": {
        "id": "9bf25a0e-d1ac-4001-8e1f-aa9622ddcea8",
        "outputId": "04934bfb-c0bb-423c-e381-6f6b2cc7c6e4"
      },
      "outputs": [
        {
          "data": {
            "text/plain": [
              "dtype('O')"
            ]
          },
          "execution_count": 95,
          "metadata": {},
          "output_type": "execute_result"
        }
      ],
      "source": [
        "d.dtype"
      ]
    },
    {
      "cell_type": "markdown",
      "id": "265da422-af47-4562-8a0b-90c16a2def89",
      "metadata": {
        "id": "265da422-af47-4562-8a0b-90c16a2def89"
      },
      "source": [
        "# 'O' is nothing but object type"
      ]
    },
    {
      "cell_type": "code",
      "execution_count": null,
      "id": "4a5fc6c9-ecec-4800-918a-f9cb796209c6",
      "metadata": {
        "id": "4a5fc6c9-ecec-4800-918a-f9cb796209c6",
        "outputId": "337e791f-072d-432f-f792-83f3376be0c1"
      },
      "outputs": [
        {
          "data": {
            "text/plain": [
              "a    5\n",
              "b    5\n",
              "c    5\n",
              "d    5\n",
              "dtype: int64"
            ]
          },
          "execution_count": 100,
          "metadata": {},
          "output_type": "execute_result"
        }
      ],
      "source": [
        "a=pd.Series(5,index=['a','b','c','d'])\n",
        "a"
      ]
    },
    {
      "cell_type": "code",
      "execution_count": null,
      "id": "099f0dce-e26a-42be-8b73-4941f9e32b0b",
      "metadata": {
        "id": "099f0dce-e26a-42be-8b73-4941f9e32b0b",
        "outputId": "598489a0-3310-43d2-e39e-cac2c5ccf5ec"
      },
      "outputs": [
        {
          "data": {
            "text/plain": [
              "google    [100, 200, 300]\n",
              "amazon    [400, 500, 600]\n",
              "dtype: object"
            ]
          },
          "execution_count": 102,
          "metadata": {},
          "output_type": "execute_result"
        }
      ],
      "source": [
        "a=pd.Series([[100,200,300],[400,500,600]],index=['google','amazon'])\n",
        "a"
      ]
    },
    {
      "cell_type": "markdown",
      "id": "47313892-0959-4a16-97a7-691b0ef99ab0",
      "metadata": {
        "id": "47313892-0959-4a16-97a7-691b0ef99ab0"
      },
      "source": [
        "# why am i giving multiple list brackets -[[]] when multiple columns we use we use [[]] this"
      ]
    },
    {
      "cell_type": "code",
      "execution_count": null,
      "id": "c054c750-e349-4384-84c0-b934bcb11ae2",
      "metadata": {
        "id": "c054c750-e349-4384-84c0-b934bcb11ae2",
        "outputId": "55958391-01a3-43c3-897b-a8cde403956c"
      },
      "outputs": [
        {
          "data": {
            "text/plain": [
              "a    [5]\n",
              "b    [5]\n",
              "c    [5]\n",
              "d    [5]\n",
              "dtype: object"
            ]
          },
          "execution_count": 105,
          "metadata": {},
          "output_type": "execute_result"
        }
      ],
      "source": [
        "b=pd.Series([[5],[5],[5],[5]],index=['a','b','c','d'])\n",
        "b# why it giving object type becuse 5 is given in square bracket"
      ]
    },
    {
      "cell_type": "code",
      "execution_count": null,
      "id": "5539bd8e-74a7-4a5e-a403-6cc545fb09f2",
      "metadata": {
        "id": "5539bd8e-74a7-4a5e-a403-6cc545fb09f2",
        "outputId": "42b75b46-3d83-4ed1-d378-cf71076a0051"
      },
      "outputs": [
        {
          "data": {
            "text/plain": [
              "a    [5]\n",
              "b    [5]\n",
              "c    [5]\n",
              "dtype: object"
            ]
          },
          "execution_count": 107,
          "metadata": {},
          "output_type": "execute_result"
        }
      ],
      "source": [
        "# dictionaries are heterogenoeus so you can take lis inside\n",
        "b=pd.Series({'a':[5],'b':[5],'c':[5]})\n",
        "b"
      ]
    },
    {
      "cell_type": "code",
      "execution_count": null,
      "id": "55971bed-5046-46d2-9243-95b920ea31a2",
      "metadata": {
        "id": "55971bed-5046-46d2-9243-95b920ea31a2",
        "outputId": "87315721-7f46-4bfe-9b56-0aaef25f9124"
      },
      "outputs": [
        {
          "name": "stdout",
          "output_type": "stream",
          "text": [
            "0    100\n",
            "1    200\n",
            "2    300\n",
            "3    400\n",
            "dtype: int64\n"
          ]
        }
      ],
      "source": [
        "s=pd.Series([100,200,300,400])\n",
        "print(s)"
      ]
    },
    {
      "cell_type": "markdown",
      "id": "89305ab0-e186-4641-b5b4-2aab71e80682",
      "metadata": {
        "id": "89305ab0-e186-4641-b5b4-2aab71e80682"
      },
      "source": [
        "# accessing specific element we use indexing\n",
        "# lets try default indexing or general indexing we call in pandas"
      ]
    },
    {
      "cell_type": "code",
      "execution_count": null,
      "id": "3146d2fd-6f38-4374-a037-a39a4b9e4131",
      "metadata": {
        "id": "3146d2fd-6f38-4374-a037-a39a4b9e4131",
        "outputId": "a21c90f1-94df-4f63-964d-2affedb5399b"
      },
      "outputs": [
        {
          "name": "stdout",
          "output_type": "stream",
          "text": [
            "100\n",
            "400\n"
          ]
        },
        {
          "ename": "KeyError",
          "evalue": "-1",
          "output_type": "error",
          "traceback": [
            "\u001b[1;31m---------------------------------------------------------------------------\u001b[0m",
            "\u001b[1;31mValueError\u001b[0m                                Traceback (most recent call last)",
            "File \u001b[1;32mE:\\anaconda\\Lib\\site-packages\\pandas\\core\\indexes\\range.py:413\u001b[0m, in \u001b[0;36mRangeIndex.get_loc\u001b[1;34m(self, key)\u001b[0m\n\u001b[0;32m    412\u001b[0m \u001b[38;5;28;01mtry\u001b[39;00m:\n\u001b[1;32m--> 413\u001b[0m     \u001b[38;5;28;01mreturn\u001b[39;00m \u001b[38;5;28mself\u001b[39m\u001b[38;5;241m.\u001b[39m_range\u001b[38;5;241m.\u001b[39mindex(new_key)\n\u001b[0;32m    414\u001b[0m \u001b[38;5;28;01mexcept\u001b[39;00m \u001b[38;5;167;01mValueError\u001b[39;00m \u001b[38;5;28;01mas\u001b[39;00m err:\n",
            "\u001b[1;31mValueError\u001b[0m: -1 is not in range",
            "\nThe above exception was the direct cause of the following exception:\n",
            "\u001b[1;31mKeyError\u001b[0m                                  Traceback (most recent call last)",
            "Cell \u001b[1;32mIn[112], line 3\u001b[0m\n\u001b[0;32m      1\u001b[0m \u001b[38;5;28mprint\u001b[39m(s[\u001b[38;5;241m0\u001b[39m])\n\u001b[0;32m      2\u001b[0m \u001b[38;5;28mprint\u001b[39m(s[\u001b[38;5;241m3\u001b[39m])\n\u001b[1;32m----> 3\u001b[0m \u001b[38;5;28mprint\u001b[39m(s[\u001b[38;5;241m-\u001b[39m\u001b[38;5;241m1\u001b[39m])\n",
            "File \u001b[1;32mE:\\anaconda\\Lib\\site-packages\\pandas\\core\\series.py:1121\u001b[0m, in \u001b[0;36mSeries.__getitem__\u001b[1;34m(self, key)\u001b[0m\n\u001b[0;32m   1118\u001b[0m     \u001b[38;5;28;01mreturn\u001b[39;00m \u001b[38;5;28mself\u001b[39m\u001b[38;5;241m.\u001b[39m_values[key]\n\u001b[0;32m   1120\u001b[0m \u001b[38;5;28;01melif\u001b[39;00m key_is_scalar:\n\u001b[1;32m-> 1121\u001b[0m     \u001b[38;5;28;01mreturn\u001b[39;00m \u001b[38;5;28mself\u001b[39m\u001b[38;5;241m.\u001b[39m_get_value(key)\n\u001b[0;32m   1123\u001b[0m \u001b[38;5;66;03m# Convert generator to list before going through hashable part\u001b[39;00m\n\u001b[0;32m   1124\u001b[0m \u001b[38;5;66;03m# (We will iterate through the generator there to check for slices)\u001b[39;00m\n\u001b[0;32m   1125\u001b[0m \u001b[38;5;28;01mif\u001b[39;00m is_iterator(key):\n",
            "File \u001b[1;32mE:\\anaconda\\Lib\\site-packages\\pandas\\core\\series.py:1237\u001b[0m, in \u001b[0;36mSeries._get_value\u001b[1;34m(self, label, takeable)\u001b[0m\n\u001b[0;32m   1234\u001b[0m     \u001b[38;5;28;01mreturn\u001b[39;00m \u001b[38;5;28mself\u001b[39m\u001b[38;5;241m.\u001b[39m_values[label]\n\u001b[0;32m   1236\u001b[0m \u001b[38;5;66;03m# Similar to Index.get_value, but we do not fall back to positional\u001b[39;00m\n\u001b[1;32m-> 1237\u001b[0m loc \u001b[38;5;241m=\u001b[39m \u001b[38;5;28mself\u001b[39m\u001b[38;5;241m.\u001b[39mindex\u001b[38;5;241m.\u001b[39mget_loc(label)\n\u001b[0;32m   1239\u001b[0m \u001b[38;5;28;01mif\u001b[39;00m is_integer(loc):\n\u001b[0;32m   1240\u001b[0m     \u001b[38;5;28;01mreturn\u001b[39;00m \u001b[38;5;28mself\u001b[39m\u001b[38;5;241m.\u001b[39m_values[loc]\n",
            "File \u001b[1;32mE:\\anaconda\\Lib\\site-packages\\pandas\\core\\indexes\\range.py:415\u001b[0m, in \u001b[0;36mRangeIndex.get_loc\u001b[1;34m(self, key)\u001b[0m\n\u001b[0;32m    413\u001b[0m         \u001b[38;5;28;01mreturn\u001b[39;00m \u001b[38;5;28mself\u001b[39m\u001b[38;5;241m.\u001b[39m_range\u001b[38;5;241m.\u001b[39mindex(new_key)\n\u001b[0;32m    414\u001b[0m     \u001b[38;5;28;01mexcept\u001b[39;00m \u001b[38;5;167;01mValueError\u001b[39;00m \u001b[38;5;28;01mas\u001b[39;00m err:\n\u001b[1;32m--> 415\u001b[0m         \u001b[38;5;28;01mraise\u001b[39;00m \u001b[38;5;167;01mKeyError\u001b[39;00m(key) \u001b[38;5;28;01mfrom\u001b[39;00m \u001b[38;5;21;01merr\u001b[39;00m\n\u001b[0;32m    416\u001b[0m \u001b[38;5;28;01mif\u001b[39;00m \u001b[38;5;28misinstance\u001b[39m(key, Hashable):\n\u001b[0;32m    417\u001b[0m     \u001b[38;5;28;01mraise\u001b[39;00m \u001b[38;5;167;01mKeyError\u001b[39;00m(key)\n",
            "\u001b[1;31mKeyError\u001b[0m: -1"
          ]
        }
      ],
      "source": [
        "print(s[0])\n",
        "print(s[3])\n",
        "print(s[-1])#will not work negative indexing because index are hashable praticular index is\n",
        "# indicated to particular value if you check 0 is 100,1 is 200 so they are not indicated with\n",
        "#negative indexing"
      ]
    },
    {
      "cell_type": "code",
      "execution_count": null,
      "id": "3db14995-0859-4fc0-b3bd-99aa4ffefa48",
      "metadata": {
        "id": "3db14995-0859-4fc0-b3bd-99aa4ffefa48",
        "outputId": "fd62cd70-f249-47f4-8edc-e468ee7dcfe3"
      },
      "outputs": [
        {
          "name": "stdout",
          "output_type": "stream",
          "text": [
            "a    1\n",
            "b    2\n",
            "c    3\n",
            "d    4\n",
            "dtype: int64\n",
            "1\n"
          ]
        }
      ],
      "source": [
        "s=pd.Series([1,2,3,4],index=['a','b','c','d'])\n",
        "print(s)\n",
        "print(s['a'])"
      ]
    },
    {
      "cell_type": "markdown",
      "id": "62e201a7-e0d4-4632-9ef2-d3bfbcac717e",
      "metadata": {
        "jp-MarkdownHeadingCollapsed": true,
        "id": "62e201a7-e0d4-4632-9ef2-d3bfbcac717e"
      },
      "source": [
        "# due to this problem pandas as bought the solution Seamless 🫡"
      ]
    },
    {
      "cell_type": "markdown",
      "id": "b2671622-613c-4895-a4ab-748566356e0a",
      "metadata": {
        "id": "b2671622-613c-4895-a4ab-748566356e0a"
      },
      "source": [
        "# due to this index is not working properly, we have two indexing in pandas\n",
        "# 1.loc- labels based indexing that we see normal a is labeled to 1 like that\n",
        "# if you want indexing like 0 ,-1,1,-4 etc then we go for 2.iloc-indexed based indexing"
      ]
    },
    {
      "cell_type": "markdown",
      "id": "dce6137e-9124-4b80-81a1-dbf891c9c532",
      "metadata": {
        "id": "dce6137e-9124-4b80-81a1-dbf891c9c532"
      },
      "source": [
        "# labels are nothing but index"
      ]
    },
    {
      "cell_type": "code",
      "execution_count": null,
      "id": "67aaf688-068c-42f0-902a-54961bc310fa",
      "metadata": {
        "id": "67aaf688-068c-42f0-902a-54961bc310fa",
        "outputId": "30a737b1-68c3-4eb5-f609-7460a402238c"
      },
      "outputs": [
        {
          "name": "stdout",
          "output_type": "stream",
          "text": [
            "a    100\n",
            "b    200\n",
            "c    300\n",
            "d    400\n",
            "e    500\n",
            "dtype: int64\n"
          ]
        }
      ],
      "source": [
        "s=pd.Series([100,200,300,400,500],index=['a','b','c','d','e'])\n",
        "print(s)"
      ]
    },
    {
      "cell_type": "code",
      "execution_count": null,
      "id": "f1a89ed2-9d07-4645-9af7-8478d658770a",
      "metadata": {
        "id": "f1a89ed2-9d07-4645-9af7-8478d658770a",
        "outputId": "9abb6eed-9ea0-4309-c8db-47105324c6db"
      },
      "outputs": [
        {
          "name": "stdout",
          "output_type": "stream",
          "text": [
            "100\n",
            "200\n"
          ]
        }
      ],
      "source": [
        "#now we can try to use labels for loc the labels are a,b,c,d\n",
        "print(s.loc['a'])\n",
        "print(s.loc['b'])\n",
        "#print(s.loc[1])#it throws error becuase we dont have label 1 right"
      ]
    },
    {
      "cell_type": "code",
      "execution_count": null,
      "id": "f3dd9bfe-aaa8-41e5-bdd2-0639b94adacd",
      "metadata": {
        "id": "f3dd9bfe-aaa8-41e5-bdd2-0639b94adacd",
        "outputId": "bd690487-7f41-40d3-ba44-0cd51d2ade3e"
      },
      "outputs": [
        {
          "name": "stdout",
          "output_type": "stream",
          "text": [
            "a    100\n",
            "b    200\n",
            "c    300\n",
            "d    400\n",
            "e    500\n",
            "dtype: int64\n",
            "\n",
            "500\n",
            "500\n"
          ]
        }
      ],
      "source": [
        "# now i want  -1,0 etc indexing\n",
        "print(s)\n",
        "print()# empty space\n",
        "print(s.iloc[4])\n",
        "print(s.iloc[-1])# see it is working negative indexing as well"
      ]
    },
    {
      "cell_type": "code",
      "execution_count": null,
      "id": "e8bad458-3ba3-4cb1-9a41-44f28f423439",
      "metadata": {
        "id": "e8bad458-3ba3-4cb1-9a41-44f28f423439",
        "outputId": "faef3f88-a1f3-44e4-9f93-418849a57d0f"
      },
      "outputs": [
        {
          "name": "stdout",
          "output_type": "stream",
          "text": [
            "100\n",
            "300\n"
          ]
        }
      ],
      "source": [
        "print(s.iloc[0])\n",
        "print(s.iloc[-3])"
      ]
    },
    {
      "cell_type": "code",
      "execution_count": null,
      "id": "9c05c52e-fde6-4fa3-a62f-d80b61df0627",
      "metadata": {
        "id": "9c05c52e-fde6-4fa3-a62f-d80b61df0627",
        "outputId": "9754066e-1419-4980-8840-b78e6f00b693"
      },
      "outputs": [
        {
          "data": {
            "text/plain": [
              "10    100\n",
              "20    200\n",
              "30    300\n",
              "40    400\n",
              "50    500\n",
              "dtype: int64"
            ]
          },
          "execution_count": 131,
          "metadata": {},
          "output_type": "execute_result"
        }
      ],
      "source": [
        "a=pd.Series([100,200,300,400,500],index=[10,20,30,40,50])\n",
        "a"
      ]
    },
    {
      "cell_type": "code",
      "execution_count": null,
      "id": "b004ff2b-e64e-4669-af66-1605dd421d5f",
      "metadata": {
        "id": "b004ff2b-e64e-4669-af66-1605dd421d5f",
        "outputId": "d432469b-5377-4d24-9634-09a71bcd50b6"
      },
      "outputs": [
        {
          "name": "stdout",
          "output_type": "stream",
          "text": [
            "300\n",
            "300\n",
            "300\n"
          ]
        }
      ],
      "source": [
        "#now i want to access 300 using loc and iloc\n",
        "a=pd.Series([100,200,300,400,500],index=[10,20,30,40,50])\n",
        "print(a.loc[30])\n",
        "print(a.iloc[2])\n",
        "print(a.iloc[-3])"
      ]
    },
    {
      "cell_type": "code",
      "execution_count": null,
      "id": "8ad3dff4-9ae5-4af4-be3c-c07640cbb4a0",
      "metadata": {
        "id": "8ad3dff4-9ae5-4af4-be3c-c07640cbb4a0",
        "outputId": "6b2df6c6-534d-469c-fd18-fc8e19998808"
      },
      "outputs": [
        {
          "name": "stdout",
          "output_type": "stream",
          "text": [
            "300\n",
            "300\n",
            "0    100\n",
            "1    200\n",
            "2    300\n",
            "3    400\n",
            "4    500\n",
            "dtype: int64\n",
            "200\n"
          ]
        }
      ],
      "source": [
        "#if i give default indexing how\n",
        "b=pd.Series([100,200,300,400,500])#when no parameters were given we can do like this\n",
        "print(b.loc[2])\n",
        "print(b.iloc[2])\n",
        "print(b)#default indexing given\n",
        "#print(b.loc[-4]) this will throw an error\n",
        "print(b.iloc[-4])"
      ]
    },
    {
      "cell_type": "markdown",
      "id": "b6915922-9c91-4fad-8715-f269489aa48a",
      "metadata": {
        "id": "b6915922-9c91-4fad-8715-f269489aa48a"
      },
      "source": [
        "# now lets talk about slicing in pandas"
      ]
    },
    {
      "cell_type": "code",
      "execution_count": null,
      "id": "f26ebac3-f524-4de2-9287-d62b1f4cf493",
      "metadata": {
        "id": "f26ebac3-f524-4de2-9287-d62b1f4cf493",
        "outputId": "04189d7d-b2b4-4a76-b9ce-3b08a18022cb"
      },
      "outputs": [
        {
          "data": {
            "text/plain": [
              "sal1     1.5\n",
              "sal2    10.2\n",
              "sal3     5.7\n",
              "sal4    25.2\n",
              "dtype: float64"
            ]
          },
          "execution_count": 138,
          "metadata": {},
          "output_type": "execute_result"
        }
      ],
      "source": [
        "a=pd.Series([1.5,10.2,5.7,25.2],index=['sal1','sal2','sal3','sal4'])\n",
        "a"
      ]
    },
    {
      "cell_type": "markdown",
      "id": "48731dfe-5e5e-4599-bf2d-c0e14882b241",
      "metadata": {
        "id": "48731dfe-5e5e-4599-bf2d-c0e14882b241"
      },
      "source": [
        "# indexing we use loc and iloc"
      ]
    },
    {
      "cell_type": "code",
      "execution_count": null,
      "id": "30b96a2a-33bf-4d52-8845-b5dc1d93ef7d",
      "metadata": {
        "id": "30b96a2a-33bf-4d52-8845-b5dc1d93ef7d",
        "outputId": "ab3dc019-549c-4e8c-f91a-41135cc2bcfa"
      },
      "outputs": [
        {
          "name": "stdout",
          "output_type": "stream",
          "text": [
            "25.2\n",
            "25.2\n",
            "25.2\n"
          ]
        }
      ],
      "source": [
        "print(a.sal4)\n",
        "#print(a.loc[3])#error right we can use for indexing loc it is labeled one not like iloc\n",
        "print(a.loc['sal4'])\n",
        "print(a.iloc[3])\n",
        "#print(a.iloc['sal4'])#it is an error right iloc is not labeled it is indexed type"
      ]
    },
    {
      "cell_type": "markdown",
      "id": "40ca5cb4-f43e-4db4-a0d2-0bb5f63372d7",
      "metadata": {
        "id": "40ca5cb4-f43e-4db4-a0d2-0bb5f63372d7"
      },
      "source": [
        "# note: loc end is inclusive\n",
        "# iloc end is inclusive  🙃"
      ]
    },
    {
      "cell_type": "code",
      "execution_count": null,
      "id": "ee01bddc-ca23-441a-affd-1eed954750ca",
      "metadata": {
        "id": "ee01bddc-ca23-441a-affd-1eed954750ca",
        "outputId": "dfc23fd9-6a44-41f9-f310-04d289489570"
      },
      "outputs": [
        {
          "name": "stdout",
          "output_type": "stream",
          "text": [
            "sal1     1.5\n",
            "sal2    10.2\n",
            "sal3     5.7\n",
            "dtype: float64\n"
          ]
        }
      ],
      "source": [
        "print(a.loc['sal1':'sal3'])# check here loc end sal3 also printed end is inclusive"
      ]
    },
    {
      "cell_type": "code",
      "execution_count": null,
      "id": "c5f38b58-6554-44ef-b56e-e9b90cfdec8d",
      "metadata": {
        "id": "c5f38b58-6554-44ef-b56e-e9b90cfdec8d",
        "outputId": "48b79e43-dbbf-419c-80df-caf81b66dad7"
      },
      "outputs": [
        {
          "name": "stdout",
          "output_type": "stream",
          "text": [
            "sal1    1.5\n",
            "sal3    5.7\n",
            "dtype: float64\n",
            "sal1    1.5\n",
            "sal3    5.7\n",
            "dtype: float64\n"
          ]
        }
      ],
      "source": [
        "#i can also give step also\n",
        "print(a.loc['sal1':'sal3':2])\n",
        "print(a.loc['sal1':'sal4':2])#2 values it takes"
      ]
    },
    {
      "cell_type": "code",
      "execution_count": null,
      "id": "6aeefb41-df2c-47f8-bba4-329ed4d6fd88",
      "metadata": {
        "id": "6aeefb41-df2c-47f8-bba4-329ed4d6fd88",
        "outputId": "043ef03a-0c34-47f4-c087-9acb287b1d3e"
      },
      "outputs": [
        {
          "name": "stdout",
          "output_type": "stream",
          "text": [
            "sal1     1.5\n",
            "sal2    10.2\n",
            "sal3     5.7\n",
            "dtype: float64\n"
          ]
        }
      ],
      "source": [
        "#iloc is index based so end is not inclusive\n",
        "print(a.iloc[0:3])# 0 1 2 it prints"
      ]
    },
    {
      "cell_type": "code",
      "execution_count": null,
      "id": "56416a29-c75c-41d6-b6ea-7e7dda02ac59",
      "metadata": {
        "id": "56416a29-c75c-41d6-b6ea-7e7dda02ac59",
        "outputId": "48cc0048-39b9-4a5e-828e-24eba2644499"
      },
      "outputs": [
        {
          "data": {
            "text/plain": [
              "sal1    1.5\n",
              "sal3    5.7\n",
              "dtype: float64"
            ]
          },
          "execution_count": 154,
          "metadata": {},
          "output_type": "execute_result"
        }
      ],
      "source": [
        "#when you wnat to access multiple elements give double brackets when no slicing is used\n",
        "a.loc[['sal1','sal3']]"
      ]
    },
    {
      "cell_type": "code",
      "execution_count": null,
      "id": "ed00da0c-d73c-40e8-8b25-4e6c4069cc59",
      "metadata": {
        "id": "ed00da0c-d73c-40e8-8b25-4e6c4069cc59",
        "outputId": "0407c728-a7e7-482c-ff0c-d4eee77c1c4b"
      },
      "outputs": [
        {
          "name": "stdout",
          "output_type": "stream",
          "text": [
            "sal1    1.5\n",
            "sal3    5.7\n",
            "dtype: float64\n"
          ]
        }
      ],
      "source": [
        "#for iloc also i want to access sal1 and sal3\n",
        "print(a.iloc[[0,2]])#double brackets are important when accessing multiple elements at once"
      ]
    },
    {
      "cell_type": "markdown",
      "id": "1e9addae-e4e9-4fa2-8284-02141120fa74",
      "metadata": {
        "id": "1e9addae-e4e9-4fa2-8284-02141120fa74"
      },
      "source": [
        "# These are the basics of pandas! If you found this content helpful, please like it. Your support gives me extra motivation to post more valuable content!\" 🚀"
      ]
    }
  ],
  "metadata": {
    "kernelspec": {
      "display_name": "Python 3 (ipykernel)",
      "language": "python",
      "name": "python3"
    },
    "language_info": {
      "codemirror_mode": {
        "name": "ipython",
        "version": 3
      },
      "file_extension": ".py",
      "mimetype": "text/x-python",
      "name": "python",
      "nbconvert_exporter": "python",
      "pygments_lexer": "ipython3",
      "version": "3.12.7"
    },
    "colab": {
      "provenance": [],
      "include_colab_link": true
    }
  },
  "nbformat": 4,
  "nbformat_minor": 5
}